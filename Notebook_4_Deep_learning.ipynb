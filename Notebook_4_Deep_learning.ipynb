{
 "cells": [
  {
   "cell_type": "markdown",
   "metadata": {},
   "source": [
    "# NLP Project Anaïs Malet : Predict TripAdvisor Reviews Rating "
   ]
  },
  {
   "cell_type": "markdown",
   "metadata": {},
   "source": [
    "### Content\n",
    "\n",
    "This dataset consisting of 20k reviews crawled from Tripadvisor."
   ]
  },
  {
   "cell_type": "markdown",
   "metadata": {},
   "source": [
    "### Goal\n",
    "\n",
    "The whole goal of the project is to predict how many stars gets a hotel based on client reviews."
   ]
  },
  {
   "cell_type": "markdown",
   "metadata": {},
   "source": [
    "### Credits"
   ]
  },
  {
   "cell_type": "markdown",
   "metadata": {},
   "source": [
    "Tripadvisor Hotel Review Dataset file, from the publication:\n",
    "\n",
    "Alam, M. H., Ryu, W.-J., Lee, S., 2016. Joint multi-grain topic senti- ment: modeling semantic aspects for online reviews. Information Sci- ences 339, 206–223."
   ]
  },
  {
   "cell_type": "markdown",
   "metadata": {},
   "source": [
    "## Notebook 4 : Deep learning\n",
    "\n",
    "We will try 4 types of Deep Learning models:\n",
    "\n",
    "- Simple Neural Network\n",
    "- RNN\n",
    "- LSTM\n",
    "- CNN\n",
    "\n",
    "For each of this model, we will use a Tokenizer to encode the input. We ill use Adam as optimizer and binary_crossentropy as loss function. We also implemented an early stopper to avoid overfitting."
   ]
  },
  {
   "cell_type": "code",
   "execution_count": 2,
   "metadata": {},
   "outputs": [],
   "source": [
    "# Import librairies\n",
    "import pandas as pd\n",
    "import plotly.express as px\n",
    "import seaborn as sns\n",
    "import matplotlib.pyplot as plt\n",
    "import re\n",
    "import numpy as np\n",
    "from sklearn.pipeline import Pipeline\n",
    "from sklearn.feature_extraction.text import TfidfVectorizer, CountVectorizer\n",
    "from sklearn.model_selection import train_test_split\n",
    "from sklearn.naive_bayes import MultinomialNB\n",
    "from sklearn.linear_model import LogisticRegression\n",
    "from sklearn.metrics import accuracy_score, classification_report, confusion_matrix, f1_score\n",
    "from nltk.corpus import stopwords\n",
    "from nltk.tokenize import word_tokenize\n",
    "from nltk.stem import WordNetLemmatizer\n",
    "from sklearn.preprocessing import LabelEncoder\n",
    "from sklearn.ensemble import RandomForestClassifier\n",
    "from sklearn.svm import LinearSVC\n",
    "from xgboost import XGBClassifier\n",
    "import tensorflow.compat.v1 as tf\n",
    "from imblearn.under_sampling import TomekLinks\n",
    "from imblearn.over_sampling import SMOTE\n",
    "from collections import Counter\n",
    "from matplotlib import pyplot\n",
    "pd.options.mode.chained_assignment = None\n",
    "import tensorflow as tf\n",
    "from tensorflow.keras.models import Sequential\n",
    "from tensorflow.keras.layers import Embedding, Flatten, Dense\n",
    "from sklearn.model_selection import train_test_split\n",
    "from sklearn.feature_extraction.text import TfidfVectorizer\n",
    "from sklearn.preprocessing import LabelEncoder\n",
    "from tensorflow.keras.preprocessing.text import Tokenizer\n",
    "from tensorflow.keras.preprocessing.sequence import pad_sequences\n",
    "import matplotlib.pyplot as plt"
   ]
  },
  {
   "cell_type": "markdown",
   "metadata": {},
   "source": [
    "## Load and read data\n"
   ]
  },
  {
   "cell_type": "code",
   "execution_count": 3,
   "metadata": {},
   "outputs": [
    {
     "name": "stdout",
     "output_type": "stream",
     "text": [
      "Number of rows : 20491\n",
      "Number of columns : 2\n"
     ]
    },
    {
     "data": {
      "text/html": [
       "<div>\n",
       "<style scoped>\n",
       "    .dataframe tbody tr th:only-of-type {\n",
       "        vertical-align: middle;\n",
       "    }\n",
       "\n",
       "    .dataframe tbody tr th {\n",
       "        vertical-align: top;\n",
       "    }\n",
       "\n",
       "    .dataframe thead th {\n",
       "        text-align: right;\n",
       "    }\n",
       "</style>\n",
       "<table border=\"1\" class=\"dataframe\">\n",
       "  <thead>\n",
       "    <tr style=\"text-align: right;\">\n",
       "      <th></th>\n",
       "      <th>Review</th>\n",
       "      <th>Rating</th>\n",
       "    </tr>\n",
       "  </thead>\n",
       "  <tbody>\n",
       "    <tr>\n",
       "      <th>0</th>\n",
       "      <td>nice hotel expensive parking got good deal sta...</td>\n",
       "      <td>4</td>\n",
       "    </tr>\n",
       "    <tr>\n",
       "      <th>1</th>\n",
       "      <td>ok nothing special charge diamond member hilto...</td>\n",
       "      <td>2</td>\n",
       "    </tr>\n",
       "    <tr>\n",
       "      <th>2</th>\n",
       "      <td>nice rooms not 4* experience hotel monaco seat...</td>\n",
       "      <td>3</td>\n",
       "    </tr>\n",
       "    <tr>\n",
       "      <th>3</th>\n",
       "      <td>unique, great stay, wonderful time hotel monac...</td>\n",
       "      <td>5</td>\n",
       "    </tr>\n",
       "    <tr>\n",
       "      <th>4</th>\n",
       "      <td>great stay great stay, went seahawk game aweso...</td>\n",
       "      <td>5</td>\n",
       "    </tr>\n",
       "    <tr>\n",
       "      <th>...</th>\n",
       "      <td>...</td>\n",
       "      <td>...</td>\n",
       "    </tr>\n",
       "    <tr>\n",
       "      <th>20486</th>\n",
       "      <td>best kept secret 3rd time staying charm, not 5...</td>\n",
       "      <td>5</td>\n",
       "    </tr>\n",
       "    <tr>\n",
       "      <th>20487</th>\n",
       "      <td>great location price view hotel great quick pl...</td>\n",
       "      <td>4</td>\n",
       "    </tr>\n",
       "    <tr>\n",
       "      <th>20488</th>\n",
       "      <td>ok just looks nice modern outside, desk staff ...</td>\n",
       "      <td>2</td>\n",
       "    </tr>\n",
       "    <tr>\n",
       "      <th>20489</th>\n",
       "      <td>hotel theft ruined vacation hotel opened sept ...</td>\n",
       "      <td>1</td>\n",
       "    </tr>\n",
       "    <tr>\n",
       "      <th>20490</th>\n",
       "      <td>people talking, ca n't believe excellent ratin...</td>\n",
       "      <td>2</td>\n",
       "    </tr>\n",
       "  </tbody>\n",
       "</table>\n",
       "<p>20491 rows × 2 columns</p>\n",
       "</div>"
      ],
      "text/plain": [
       "                                                  Review  Rating\n",
       "0      nice hotel expensive parking got good deal sta...       4\n",
       "1      ok nothing special charge diamond member hilto...       2\n",
       "2      nice rooms not 4* experience hotel monaco seat...       3\n",
       "3      unique, great stay, wonderful time hotel monac...       5\n",
       "4      great stay great stay, went seahawk game aweso...       5\n",
       "...                                                  ...     ...\n",
       "20486  best kept secret 3rd time staying charm, not 5...       5\n",
       "20487  great location price view hotel great quick pl...       4\n",
       "20488  ok just looks nice modern outside, desk staff ...       2\n",
       "20489  hotel theft ruined vacation hotel opened sept ...       1\n",
       "20490  people talking, ca n't believe excellent ratin...       2\n",
       "\n",
       "[20491 rows x 2 columns]"
      ]
     },
     "execution_count": 3,
     "metadata": {},
     "output_type": "execute_result"
    }
   ],
   "source": [
    "df = pd.read_csv(\"tripadvisor_hotel_reviews.csv\")\n",
    "print(f\"Number of rows : {df.shape[0]}\\nNumber of columns : {df.shape[1]}\")\n",
    "df"
   ]
  },
  {
   "cell_type": "markdown",
   "metadata": {},
   "source": [
    "## ***Train/test split***\n",
    "\n",
    "### Encoding labels\n",
    "\n",
    "We want to encode the class labels and create a train/test split"
   ]
  },
  {
   "cell_type": "code",
   "execution_count": 4,
   "metadata": {},
   "outputs": [],
   "source": [
    "# instantiate a label encoder # https://scikit-learn.org/stable/modules/generated/sklearn.preprocessing.LabelEncoder.html\n",
    "label_encoder = LabelEncoder()\n",
    "\n",
    "# fit and transform the encoder on labels\n",
    "df['Review_enc'] = label_encoder.fit_transform(df['Rating'])"
   ]
  },
  {
   "cell_type": "markdown",
   "metadata": {},
   "source": [
    "### Split and Vectorize"
   ]
  },
  {
   "cell_type": "code",
   "execution_count": 5,
   "metadata": {},
   "outputs": [],
   "source": [
    "# Define class labels\n",
    "class_labels = [\"1 star\",\"2 stars\",\"3 stars\",\"4 stars\",\"5 stars\"]\n",
    "category_orders = {\"Review\": class_labels}\n",
    "\n",
    "# Split the data into training and testing sets\n",
    "X = df['Review']\n",
    "y = df['Review_enc']\n",
    "\n",
    "# Assuming 'X' is your text data and 'y' is the corresponding labels\n",
    "X_train, X_test, y_train, y_test = train_test_split(X, y, test_size=0.2, random_state=42)\n",
    "\n",
    "# Vectorize text data using TF-IDF\n",
    "vectorizer = TfidfVectorizer()\n",
    "X_train_vec = vectorizer.fit_transform(X_train)\n",
    "X_test_vec = vectorizer.transform(X_test)"
   ]
  },
  {
   "cell_type": "markdown",
   "metadata": {},
   "source": [
    "## Build a simple neurone network \n",
    "\n",
    "Here's the components we will use, adapted for our multi-class dataset :\n",
    "\n",
    "### 1. Output Layer Activation:\n",
    " **'softmax'**, a common choice for multi-class classification problems. It transforms the raw model output into probability distributions over the different classes.\n",
    "\n",
    "### 2. Loss Function:\n",
    " **'sparse_categorical_crossentropy'**. This loss function is suitable for multi-class classification problems when the labels are integers.\n",
    "\n",
    "### 3. Evaluation: \n",
    "**'model.evaluate'**. The accuracy metric is used to assess the model's performance on the test set.\n",
    "\n",
    "### 4. Optimizer:\n",
    "**'Adam'**. The Adam optimization algorithm is a popular choice for training neural networks due to its effectiveness in practice. It might not always be the best optimizer for every situation. Depending on our dataset, and architecture, we might want to experiment with other optimizers such as SGD (Stochastic Gradient Descent), RMSProp, or others.\n",
    "\n",
    "### 5. The Embedding layer:\n",
    "\n",
    "This layer is used for word embedding, and we need to compute its attributes :"
   ]
  },
  {
   "cell_type": "markdown",
   "metadata": {},
   "source": [
    "#### - Input_dim: \n",
    "\n",
    "This is the size of our vocabulary which is the total number of unique words in your dataset. We will use a tokenizer, so it would be len(tokenizer.word_index) + 1.\n",
    "\n",
    "Compute 'input_dim' as 'max_words' :"
   ]
  },
  {
   "cell_type": "code",
   "execution_count": 6,
   "metadata": {},
   "outputs": [
    {
     "name": "stdout",
     "output_type": "stream",
     "text": [
      "Max_words = 102008\n"
     ]
    }
   ],
   "source": [
    "# Use the Counter class to return the most frequent words\n",
    "cnt = Counter()\n",
    "\n",
    "# Join all the text in the text_wo_stop column using the join() function\n",
    "joined_text = \" \".join(X)\n",
    "\n",
    "# Tokenize the text by using the split() function\n",
    "split = joined_text.split()\n",
    "\n",
    "# Instantiate the Counter class with your tokenized array\n",
    "word_counter = Counter(split)\n",
    "\n",
    "# Use the most_common class method to return the most frequent words\n",
    "most_common = word_counter.most_common()\n",
    "\n",
    "max_words = len(most_common)\n",
    "\n",
    "print('Max_words = '+ str(max_words))"
   ]
  },
  {
   "cell_type": "markdown",
   "metadata": {},
   "source": [
    "#### - Input_length: \n",
    "\n",
    "The number of words in each sequence. This should be the length of our input sequences, which is the maximum number of words in a sentence or document. Our sentences are of variable length,so we will pad them to a fixed length. Compute 'max_sentence_length' : the maximum number of words in a sentence"
   ]
  },
  {
   "cell_type": "code",
   "execution_count": 7,
   "metadata": {},
   "outputs": [
    {
     "name": "stdout",
     "output_type": "stream",
     "text": [
      "The maximum length of a sentence : max_sentence_length = 1931\n"
     ]
    },
    {
     "data": {
      "image/png": "[encoded data removed]",
      "text/plain": [
       "<Figure size 640x480 with 1 Axes>"
      ]
     },
     "metadata": {},
     "output_type": "display_data"
    }
   ],
   "source": [
    "# Assuming X is a list of preprocessed text data\n",
    "sentence_lengths = [len(sentence.split()) for sentence in X]\n",
    "\n",
    "# Find the maximum length of a sentence\n",
    "max_sentence_length = max(sentence_lengths)\n",
    "\n",
    "# Display the result\n",
    "print(f\"The maximum length of a sentence : max_sentence_length = {max_sentence_length}\")\n",
    "\n",
    "# Plot the histogram\n",
    "plt.hist(sentence_lengths, bins=30)\n",
    "plt.xlabel('Sentence Length')\n",
    "plt.ylabel('Frequency')\n",
    "plt.title('Distribution of Sentence Lengths')\n",
    "plt.show()"
   ]
  },
  {
   "cell_type": "markdown",
   "metadata": {},
   "source": [
    "#### - Output_dim: \n",
    "\n",
    "The output_dim is the number of dimensions in the embedding vector. \n",
    "A higher output_dim allows the model to learn more intricate relationships between words but may increase the computational cost.\n",
    "\n",
    "For smaller datasets or simpler tasks, we might use a smaller output_dim, such as 50 or 100.\n",
    "\n",
    "For larger datasets or more complex tasks, we should consider using a larger output_dim, such as 200 or 300.\n",
    "\n",
    "We will set our Output_dim between small and large dataset : 150"
   ]
  },
  {
   "cell_type": "code",
   "execution_count": 8,
   "metadata": {},
   "outputs": [],
   "source": [
    "output_dim = 150\n"
   ]
  },
  {
   "cell_type": "markdown",
   "metadata": {},
   "source": [
    "## Define the simple neural network with Keras"
   ]
  },
  {
   "cell_type": "markdown",
   "metadata": {},
   "source": [
    "Now, we've choose our hyperparameters and layers we can build our simple neural network. \n",
    "\n",
    "And let's tune the 'epochs' parameter.\n",
    "\n",
    "- With 'epochs' = 5 we have an accuracy of 0,56\n",
    "- With 'epochs' = 10 we have an accuracy of 0,58\n",
    "\n",
    "Let's try with 'epochs' = 50 to might see better results."
   ]
  },
  {
   "cell_type": "code",
   "execution_count": 9,
   "metadata": {},
   "outputs": [
    {
     "name": "stdout",
     "output_type": "stream",
     "text": [
      "Epoch 1/50\n",
      "461/461 [==============================] - 423s 907ms/step - loss: 1.1504 - accuracy: 0.4966 - val_loss: 0.9155 - val_accuracy: 0.5817\n",
      "Epoch 2/50\n",
      "461/461 [==============================] - 324s 700ms/step - loss: 0.6950 - accuracy: 0.7047 - val_loss: 0.8913 - val_accuracy: 0.6091\n",
      "Epoch 3/50\n",
      "461/461 [==============================] - 314s 682ms/step - loss: 0.2479 - accuracy: 0.9074 - val_loss: 1.4157 - val_accuracy: 0.6030\n",
      "Epoch 4/50\n",
      "461/461 [==============================] - 310s 673ms/step - loss: 0.0691 - accuracy: 0.9770 - val_loss: 2.1515 - val_accuracy: 0.5659\n",
      "Epoch 5/50\n",
      "461/461 [==============================] - 316s 685ms/step - loss: 0.0161 - accuracy: 0.9957 - val_loss: 2.6543 - val_accuracy: 0.5939\n",
      "Epoch 6/50\n",
      "461/461 [==============================] - 311s 675ms/step - loss: 0.0063 - accuracy: 0.9988 - val_loss: 2.3861 - val_accuracy: 0.5915\n",
      "Epoch 7/50\n",
      "461/461 [==============================] - 313s 678ms/step - loss: 0.0016 - accuracy: 0.9998 - val_loss: 2.8490 - val_accuracy: 0.5841\n",
      "Epoch 8/50\n",
      "461/461 [==============================] - 310s 672ms/step - loss: 6.5936e-04 - accuracy: 0.9999 - val_loss: 3.2692 - val_accuracy: 0.5793\n",
      "Epoch 9/50\n",
      "461/461 [==============================] - 319s 691ms/step - loss: 0.0899 - accuracy: 0.9751 - val_loss: 2.5416 - val_accuracy: 0.5878\n",
      "Epoch 10/50\n",
      "461/461 [==============================] - 310s 673ms/step - loss: 0.0420 - accuracy: 0.9902 - val_loss: 2.3211 - val_accuracy: 0.5738\n",
      "Epoch 11/50\n",
      "461/461 [==============================] - 310s 673ms/step - loss: 0.0099 - accuracy: 0.9978 - val_loss: 2.7975 - val_accuracy: 0.5817\n",
      "Epoch 12/50\n",
      "461/461 [==============================] - 313s 678ms/step - loss: 0.0018 - accuracy: 0.9996 - val_loss: 2.7349 - val_accuracy: 0.5823\n",
      "Epoch 13/50\n",
      "461/461 [==============================] - 314s 681ms/step - loss: 1.9847e-04 - accuracy: 1.0000 - val_loss: 3.1881 - val_accuracy: 0.5860\n",
      "Epoch 14/50\n",
      "461/461 [==============================] - 312s 677ms/step - loss: 6.0246e-05 - accuracy: 1.0000 - val_loss: 3.3453 - val_accuracy: 0.5866\n",
      "Epoch 15/50\n",
      "461/461 [==============================] - 313s 678ms/step - loss: 3.8838e-05 - accuracy: 1.0000 - val_loss: 3.4731 - val_accuracy: 0.5823\n",
      "Epoch 16/50\n",
      "461/461 [==============================] - 311s 675ms/step - loss: 2.8008e-05 - accuracy: 1.0000 - val_loss: 3.5642 - val_accuracy: 0.5823\n",
      "Epoch 17/50\n",
      "461/461 [==============================] - 314s 681ms/step - loss: 2.0755e-05 - accuracy: 1.0000 - val_loss: 3.6464 - val_accuracy: 0.5860\n",
      "Epoch 18/50\n",
      "461/461 [==============================] - 311s 673ms/step - loss: 1.5591e-05 - accuracy: 1.0000 - val_loss: 3.7320 - val_accuracy: 0.5841\n",
      "Epoch 19/50\n",
      "461/461 [==============================] - 312s 676ms/step - loss: 1.1973e-05 - accuracy: 1.0000 - val_loss: 3.8086 - val_accuracy: 0.5835\n",
      "Epoch 20/50\n",
      "461/461 [==============================] - 419s 910ms/step - loss: 9.2990e-06 - accuracy: 1.0000 - val_loss: 3.8885 - val_accuracy: 0.5793\n",
      "Epoch 21/50\n",
      "461/461 [==============================] - 443s 960ms/step - loss: 7.1854e-06 - accuracy: 1.0000 - val_loss: 3.9534 - val_accuracy: 0.5811\n",
      "Epoch 22/50\n",
      "461/461 [==============================] - 403s 871ms/step - loss: 5.6019e-06 - accuracy: 1.0000 - val_loss: 4.0280 - val_accuracy: 0.5805\n",
      "Epoch 23/50\n",
      "461/461 [==============================] - 320s 695ms/step - loss: 4.3947e-06 - accuracy: 1.0000 - val_loss: 4.0880 - val_accuracy: 0.5817\n",
      "Epoch 24/50\n",
      "461/461 [==============================] - 310s 672ms/step - loss: 3.4252e-06 - accuracy: 1.0000 - val_loss: 4.1534 - val_accuracy: 0.5817\n",
      "Epoch 25/50\n",
      "461/461 [==============================] - 312s 678ms/step - loss: 2.6768e-06 - accuracy: 1.0000 - val_loss: 4.2168 - val_accuracy: 0.5835\n",
      "Epoch 26/50\n",
      "461/461 [==============================] - 310s 673ms/step - loss: 2.1088e-06 - accuracy: 1.0000 - val_loss: 4.2922 - val_accuracy: 0.5829\n",
      "Epoch 27/50\n",
      "461/461 [==============================] - 310s 673ms/step - loss: 1.6445e-06 - accuracy: 1.0000 - val_loss: 4.3444 - val_accuracy: 0.5835\n",
      "Epoch 28/50\n",
      "461/461 [==============================] - 593s 1s/step - loss: 1.2952e-06 - accuracy: 1.0000 - val_loss: 4.4320 - val_accuracy: 0.5768\n",
      "Epoch 29/50\n",
      "461/461 [==============================] - 897s 2s/step - loss: 1.0282e-06 - accuracy: 1.0000 - val_loss: 4.4845 - val_accuracy: 0.5835\n",
      "Epoch 30/50\n",
      "461/461 [==============================] - 461s 999ms/step - loss: 8.0212e-07 - accuracy: 1.0000 - val_loss: 4.5471 - val_accuracy: 0.5841\n",
      "Epoch 31/50\n",
      "461/461 [==============================] - 447s 969ms/step - loss: 6.3034e-07 - accuracy: 1.0000 - val_loss: 4.6144 - val_accuracy: 0.5841\n",
      "Epoch 32/50\n",
      "461/461 [==============================] - 351s 761ms/step - loss: 4.9661e-07 - accuracy: 1.0000 - val_loss: 4.6848 - val_accuracy: 0.5817\n",
      "Epoch 33/50\n",
      "461/461 [==============================] - 346s 750ms/step - loss: 3.8966e-07 - accuracy: 1.0000 - val_loss: 4.7466 - val_accuracy: 0.5811\n",
      "Epoch 34/50\n",
      "461/461 [==============================] - 340s 738ms/step - loss: 3.0599e-07 - accuracy: 1.0000 - val_loss: 4.8117 - val_accuracy: 0.5811\n",
      "Epoch 35/50\n",
      "461/461 [==============================] - 342s 741ms/step - loss: 2.3868e-07 - accuracy: 1.0000 - val_loss: 4.8922 - val_accuracy: 0.5799\n",
      "Epoch 36/50\n",
      "461/461 [==============================] - 343s 744ms/step - loss: 1.8775e-07 - accuracy: 1.0000 - val_loss: 4.9537 - val_accuracy: 0.5793\n",
      "Epoch 37/50\n",
      "461/461 [==============================] - 340s 737ms/step - loss: 1.4635e-07 - accuracy: 1.0000 - val_loss: 5.0075 - val_accuracy: 0.5817\n",
      "Epoch 38/50\n",
      "461/461 [==============================] - 346s 749ms/step - loss: 1.1459e-07 - accuracy: 1.0000 - val_loss: 5.0639 - val_accuracy: 0.5817\n",
      "Epoch 39/50\n",
      "461/461 [==============================] - 339s 735ms/step - loss: 9.0368e-08 - accuracy: 1.0000 - val_loss: 5.1388 - val_accuracy: 0.5799\n",
      "Epoch 40/50\n",
      "461/461 [==============================] - 340s 738ms/step - loss: 7.0797e-08 - accuracy: 1.0000 - val_loss: 5.1980 - val_accuracy: 0.5811\n",
      "Epoch 41/50\n",
      "461/461 [==============================] - 341s 740ms/step - loss: 5.5758e-08 - accuracy: 1.0000 - val_loss: 5.2639 - val_accuracy: 0.5811\n",
      "Epoch 42/50\n",
      "461/461 [==============================] - 341s 739ms/step - loss: 4.3637e-08 - accuracy: 1.0000 - val_loss: 5.3212 - val_accuracy: 0.5805\n",
      "Epoch 43/50\n",
      "461/461 [==============================] - 445s 965ms/step - loss: 3.3964e-08 - accuracy: 1.0000 - val_loss: 5.3887 - val_accuracy: 0.5811\n",
      "Epoch 44/50\n",
      "461/461 [==============================] - 403s 875ms/step - loss: 2.6683e-08 - accuracy: 1.0000 - val_loss: 5.4452 - val_accuracy: 0.5811\n",
      "Epoch 45/50\n",
      "461/461 [==============================] - 343s 745ms/step - loss: 2.0930e-08 - accuracy: 1.0000 - val_loss: 5.5036 - val_accuracy: 0.5811\n",
      "Epoch 46/50\n",
      "461/461 [==============================] - 342s 742ms/step - loss: 1.6267e-08 - accuracy: 1.0000 - val_loss: 5.5523 - val_accuracy: 0.5811\n",
      "Epoch 47/50\n",
      "461/461 [==============================] - 343s 744ms/step - loss: 1.2574e-08 - accuracy: 1.0000 - val_loss: 5.6230 - val_accuracy: 0.5793\n",
      "Epoch 48/50\n",
      "461/461 [==============================] - 345s 748ms/step - loss: 9.6567e-09 - accuracy: 1.0000 - val_loss: 5.6680 - val_accuracy: 0.5793\n",
      "Epoch 49/50\n",
      "461/461 [==============================] - 344s 745ms/step - loss: 7.4102e-09 - accuracy: 1.0000 - val_loss: 5.7230 - val_accuracy: 0.5799\n",
      "Epoch 50/50\n",
      "461/461 [==============================] - 339s 736ms/step - loss: 5.8344e-09 - accuracy: 1.0000 - val_loss: 5.7679 - val_accuracy: 0.5811\n",
      "129/129 [==============================] - 9s 68ms/step - loss: 5.8692 - accuracy: 0.5919\n",
      "Test Loss: 5.8692, Test Accuracy: 0.5919\n"
     ]
    }
   ],
   "source": [
    "from tensorflow.keras.utils import to_categorical\n",
    "\n",
    "# One-hot encode ratings\n",
    "y_train_encoded = to_categorical(y_train)\n",
    "y_test_encoded = to_categorical(y_test)\n",
    "\n",
    "# Tokenize and pad sequences\n",
    "tokenizer = Tokenizer(num_words=max_words)\n",
    "tokenizer.fit_on_texts(X_train)\n",
    "X_train_sequences = tokenizer.texts_to_sequences(X_train)\n",
    "X_test_sequences = tokenizer.texts_to_sequences(X_test)\n",
    "\n",
    "input_dim = len(tokenizer.word_index) + 1\n",
    "\n",
    "X_train_padded = pad_sequences(X_train_sequences, maxlen=max_sentence_length)\n",
    "X_test_padded = pad_sequences(X_test_sequences, maxlen=max_sentence_length)\n",
    "\n",
    "# Build the model\n",
    "model = Sequential()\n",
    "model.add(Embedding(input_dim=input_dim, output_dim=output_dim, input_length=max_sentence_length))\n",
    "model.add(Flatten())\n",
    "model.add(Dense(128, activation='relu'))\n",
    "model.add(Dense(64, activation='relu'))\n",
    "model.add(Dense(32, activation='relu'))\n",
    "model.add(Dense(16, activation='relu'))\n",
    "model.add(Dense(len(set(y)), activation='softmax'))\n",
    "\n",
    "# Compile the model\n",
    "model.compile(optimizer='adam', loss='categorical_crossentropy', metrics=['accuracy'])\n",
    "\n",
    "# Train the model\n",
    "model.fit(X_train_padded, y_train_encoded, epochs=50, batch_size=32, validation_split=0.1)\n",
    "\n",
    "# Evaluate the model on the test set\n",
    "loss, accuracy = model.evaluate(X_test_padded, y_test_encoded)\n",
    "print(f\"Test Loss: {loss:.4f}, Test Accuracy: {accuracy:.4f}\")\n",
    "\n"
   ]
  },
  {
   "cell_type": "markdown",
   "metadata": {},
   "source": [
    "In summary, after increasing the number of training epochs to 50, the neural network exhibited a notable improvement in accuracy, achieving a higher accuracy rate of 0.59. However, this advancement came at the cost of a significantly extended training duration. The decision to balance between training time and model performance is crucial and should be made based on the specific requirements of the application. Further optimization strategies or exploration of alternative neural network architectures may be considered to strike a balance between achieving a satisfactory accuracy and maintaining a reasonable computational efficiency."
   ]
  }
 ],
 "metadata": {
  "kernelspec": {
   "display_name": "py39",
   "language": "python",
   "name": "python3"
  },
  "language_info": {
   "codemirror_mode": {
    "name": "ipython",
    "version": 3
   },
   "file_extension": ".py",
   "mimetype": "text/x-python",
   "name": "python",
   "nbconvert_exporter": "python",
   "pygments_lexer": "ipython3",
   "version": "3.9.16"
  },
  "orig_nbformat": 4
 },
 "nbformat": 4,
 "nbformat_minor": 2
}
